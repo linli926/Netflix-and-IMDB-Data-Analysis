{
 "cells": [
  {
   "cell_type": "markdown",
   "metadata": {},
   "source": [
    "# Netflix and IMDB Data Analysis Project – Data Preparation\n",
    "\n",
    "Project Overview\n",
    "\n",
    "\n",
    "Data Sources\n",
    "- IMDB datasets （title.basics.tsv, title.ratings.tsv）\n",
    "- Netflix dataset（netflix_titles.csv）"
   ]
  },
  {
   "cell_type": "code",
   "execution_count": 1,
   "metadata": {},
   "outputs": [
    {
     "name": "stdout",
     "output_type": "stream",
     "text": [
      "IMDB basics (11396577, 9)\n",
      "IMDB rating: (1525669, 3)\n",
      "Netflix: (8807, 12)\n"
     ]
    }
   ],
   "source": [
    "\n",
    "import pandas as pd\n",
    "import numpy as np\n",
    "import matplotlib.pyplot as plt\n",
    "import seaborn as sns\n",
    "import os\n",
    "%matplotlib inline\n",
    "\n",
    "\n",
    "plt.rcParams['font.sans-serif'] = ['Arial Unicode MS']\n",
    "basics_df = pd.read_csv('data/title.basics.tsv', sep='\\t', low_memory=False)\n",
    "ratings_df = pd.read_csv('data/title.ratings.tsv', sep='\\t')\n",
    "netflix_df = pd.read_csv('data/netflix_titles.csv')\n",
    "\n",
    "\n",
    "print(\"IMDB basics\", basics_df.shape)\n",
    "print(\"IMDB rating:\", ratings_df.shape)\n",
    "print(\"Netflix:\", netflix_df.shape)"
   ]
  },
  {
   "cell_type": "markdown",
   "metadata": {},
   "source": [
    "## Data Exploration\n",
    "\n",
    "### 1. Check Basic Information of Datasets\n",
    "We first need to check the basic information of the dataset, including its structure, column names, data types, sample rows, and any duplicate entries, to ensure the data is ready for analysis."
   ]
  },
  {
   "cell_type": "code",
   "execution_count": 2,
   "metadata": {},
   "outputs": [
    {
     "name": "stdout",
     "output_type": "stream",
     "text": [
      "\n",
      "Column names:\n",
      "['tconst', 'titleType', 'primaryTitle', 'originalTitle', 'isAdult', 'startYear', 'endYear', 'runtimeMinutes', 'genres']\n",
      "\n",
      "Data types:\n",
      "tconst            object\n",
      "titleType         object\n",
      "primaryTitle      object\n",
      "originalTitle     object\n",
      "isAdult           object\n",
      "startYear         object\n",
      "endYear           object\n",
      "runtimeMinutes    object\n",
      "genres            object\n",
      "dtype: object\n",
      "\n",
      "First 5 rows of data:\n",
      "      tconst titleType            primaryTitle           originalTitle  \\\n",
      "0  tt0000001     short              Carmencita              Carmencita   \n",
      "1  tt0000002     short  Le clown et ses chiens  Le clown et ses chiens   \n",
      "2  tt0000003     short            Poor Pierrot          Pauvre Pierrot   \n",
      "3  tt0000004     short             Un bon bock             Un bon bock   \n",
      "4  tt0000005     short        Blacksmith Scene        Blacksmith Scene   \n",
      "\n",
      "  isAdult startYear endYear runtimeMinutes                    genres  \n",
      "0       0      1894      \\N              1         Documentary,Short  \n",
      "1       0      1892      \\N              5           Animation,Short  \n",
      "2       0      1892      \\N              5  Animation,Comedy,Romance  \n",
      "3       0      1892      \\N             12           Animation,Short  \n",
      "4       0      1893      \\N              1                     Short  \n",
      "\n",
      "=== Checking for duplicate tconst entries ===\n",
      "\n",
      "No duplicate tconst entries found.\n"
     ]
    }
   ],
   "source": [
    "# Print column names\n",
    "print(\"\\nColumn names:\")\n",
    "print(basics_df.columns.tolist())\n",
    "\n",
    "# Print data types\n",
    "print(\"\\nData types:\")\n",
    "print(basics_df.dtypes)\n",
    "\n",
    "# Print the first 5 rows of data\n",
    "print(\"\\nFirst 5 rows of data:\")\n",
    "print(basics_df.head())\n",
    "\n",
    "# Check for duplicates in the 'tconst' column\n",
    "print(\"\\n=== Checking for duplicate tconst entries ===\")\n",
    "duplicates_count = basics_df['tconst'].duplicated().sum()\n",
    "\n",
    "if duplicates_count > 0:\n",
    "    print(f\"\\nFound {duplicates_count} duplicate tconst entries. Removing duplicates...\")\n",
    "    basics_df = basics_df.drop_duplicates(subset='tconst', keep='first')\n",
    "    print(\"Duplicates have been removed.\")\n",
    "else:\n",
    "    print(\"\\nNo duplicate tconst entries found.\")\n",
    "\n"
   ]
  },
  {
   "cell_type": "markdown",
   "metadata": {},
   "source": [
    "### 2. Data Cleaning and Preparation\n",
    "Then, we merge datasets, clean the data, and rename necessary columns to ensure consistency and usability for further analysis. \n"
   ]
  },
  {
   "cell_type": "code",
   "execution_count": 3,
   "metadata": {},
   "outputs": [],
   "source": [
    "imdb_df = pd.merge(basics_df, ratings_df, on='tconst', how='inner')\n",
    "imdb_df['startYear'] = pd.to_numeric(imdb_df['startYear'], errors='coerce')\n",
    "imdb_df = imdb_df[(imdb_df['startYear'] >= 1925) & (imdb_df['startYear'] <= 2021)]\n",
    "\n",
    "\n",
    "imdb_df['title_lower'] = imdb_df['primaryTitle'].str.lower().str.strip()\n",
    "netflix_df['title_lower'] = netflix_df['title'].str.lower().str.strip()\n",
    "netflix_df['release_year'] = pd.to_numeric(netflix_df['release_year'], errors='coerce')\n",
    "\n",
    "\n",
    "matched_df = pd.merge(\n",
    "    imdb_df,\n",
    "    netflix_df,\n",
    "    left_on=['title_lower', 'startYear'],\n",
    "    right_on=['title_lower', 'release_year'],\n",
    "    how='inner'\n",
    ")"
   ]
  },
  {
   "cell_type": "markdown",
   "metadata": {},
   "source": [
    "The column name 'cast' has been renamed to 'crew' because 'cast' is a reserved keyword in SQL. "
   ]
  },
  {
   "cell_type": "code",
   "execution_count": 4,
   "metadata": {},
   "outputs": [],
   "source": [
    "\n",
    "final_columns = {\n",
    "    'tconst': 'movie_id',\n",
    "    'primaryTitle': 'title',\n",
    "    'startYear': 'release_year',\n",
    "    'genres': 'imdb_genres',\n",
    "    'averageRating': 'imdb_rating',\n",
    "    'numVotes': 'imdb_votes',\n",
    "    'show_id': 'netflix_id',\n",
    "    'type': 'netflix_type',\n",
    "    'director': 'director',\n",
    "    'cast': 'crew',           # Rename 'cast' to 'crew'\n",
    "    'country': 'country',\n",
    "    'duration': 'netflix_duration',\n",
    "    'listed_in': 'netflix_genres'\n",
    "}\n"
   ]
  },
  {
   "cell_type": "markdown",
   "metadata": {},
   "source": [
    "In the final step, we export the dataset as a CSV file to ensure it is stored in a structured format, making it easy for further analysis."
   ]
  },
  {
   "cell_type": "code",
   "execution_count": 5,
   "metadata": {},
   "outputs": [
    {
     "name": "stdout",
     "output_type": "stream",
     "text": [
      "[NbConvertApp] Converting notebook data_preparation.ipynb to html\n",
      "[NbConvertApp] Writing 290395 bytes to data_preparation_report.html\n",
      "\n",
      "Notebook exported as HTML: data_preparation_report.html\n"
     ]
    }
   ],
   "source": [
    "final_df = matched_df[final_columns.keys()].rename(columns=final_columns)\n",
    "\n",
    "final_df.to_csv('/Users/mimi/Documents/imdb-analysis/data/netflix_imdb_matched.csv', \n",
    "                index=False, sep='\\t', encoding='utf-8')\n",
    "\n",
    "\n",
    "import subprocess\n",
    "subprocess.run(['jupyter', 'nbconvert', '--to', 'html',\n",
    "               '--output', 'data_preparation_report.html',\n",
    "               'data_preparation.ipynb'], stderr=subprocess.STDOUT)\n",
    "\n",
    "print(\"\\nNotebook exported as HTML: data_preparation_report.html\")"
   ]
  }
 ],
 "metadata": {
  "kernelspec": {
   "display_name": "Python 3",
   "language": "python",
   "name": "python3"
  },
  "language_info": {
   "codemirror_mode": {
    "name": "ipython",
    "version": 3
   },
   "file_extension": ".py",
   "mimetype": "text/x-python",
   "name": "python",
   "nbconvert_exporter": "python",
   "pygments_lexer": "ipython3",
   "version": "3.9.6"
  }
 },
 "nbformat": 4,
 "nbformat_minor": 2
}
