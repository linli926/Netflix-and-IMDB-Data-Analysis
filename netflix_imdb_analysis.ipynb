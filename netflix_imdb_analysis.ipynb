{
 "cells": [
  {
   "cell_type": "markdown",
   "metadata": {},
   "source": [
    "# Netflix and IMDB Data Analysis Project – Data Analysis"
   ]
  },
  {
   "cell_type": "markdown",
   "metadata": {},
   "source": [
    "After data cleaning, we store the data in SQLite to make the analysis more efficient. This allows us to run SQL queries directly for data exploration and statistical analysis."
   ]
  },
  {
   "cell_type": "code",
   "execution_count": 22,
   "metadata": {},
   "outputs": [
    {
     "name": "stdout",
     "output_type": "stream",
     "text": [
      "   total_movies\n",
      "0          7278\n"
     ]
    }
   ],
   "source": [
    "import sqlite3\n",
    "import pandas as pd\n",
    "\n",
    "conn = sqlite3.connect('/Users/mimi/Documents/imdb-analysis/data/netflix_imdb.db')\n",
    "\n",
    "df = pd.read_csv('/Users/mimi/Documents/imdb-analysis/data/netflix_imdb_matched.csv', sep='\\t')\n",
    "\n",
    "df.to_sql('netflix_imdb_data_now', conn, if_exists='replace', index=False)\n",
    "\n",
    "result = pd.read_sql_query(\"SELECT COUNT(*) as total_movies FROM netflix_imdb_data_now\", conn)\n",
    "print(result)\n",
    "\n",
    "conn.close()"
   ]
  },
  {
   "cell_type": "markdown",
   "metadata": {},
   "source": [
    "### 1. Relationship Between IMDb Rating and Number of Votes"
   ]
  },
  {
   "cell_type": "code",
   "execution_count": 23,
   "metadata": {},
   "outputs": [
    {
     "name": "stdout",
     "output_type": "stream",
     "text": [
      "                                           title  release_year  imdb_rating  \\\n",
      "0                                      Inception        2010.0          8.8   \n",
      "1                                   Pulp Fiction        1994.0          8.9   \n",
      "2                                     The Matrix        1999.0          8.7   \n",
      "3  The Lord of the Rings: The Return of the King        2003.0          9.0   \n",
      "4          The Lord of the Rings: The Two Towers        2002.0          8.8   \n",
      "5                               Django Unchained        2012.0          8.5   \n",
      "6                           Inglourious Basterds        2009.0          8.4   \n",
      "7                                 Shutter Island        2010.0          8.2   \n",
      "8                               Schindler's List        1993.0          9.0   \n",
      "9                                   The Departed        2006.0          8.5   \n",
      "\n",
      "   imdb_votes  \n",
      "0     2641978  \n",
      "1     2297137  \n",
      "2     2124883  \n",
      "3     2049730  \n",
      "4     1847887  \n",
      "5     1759561  \n",
      "6     1650129  \n",
      "7     1521348  \n",
      "8     1500915  \n",
      "9     1467480  \n"
     ]
    }
   ],
   "source": [
    "conn = sqlite3.connect('/Users/mimi/Documents/imdb-analysis/data/netflix_imdb.db')\n",
    "\n",
    "votes_query = pd.read_sql_query(\"\"\"\n",
    "SELECT \n",
    "    title,\n",
    "    release_year,\n",
    "    imdb_rating, \n",
    "    imdb_votes\n",
    "FROM \n",
    "    netflix_imdb_data_now\n",
    "WHERE \n",
    "    imdb_votes IS NOT NULL\n",
    "ORDER BY \n",
    "    imdb_votes DESC\n",
    "LIMIT 10;\n",
    "\"\"\", conn)\n",
    "\n",
    "print(votes_query)\n",
    "\n",
    "conn.close()"
   ]
  },
  {
   "cell_type": "markdown",
   "metadata": {},
   "source": [
    "This analysis explores the relationship between movie ratings and popularity. We observe that movies with higher IMDb ratings often receive more votes, indicating that popular, high-quality films tend to attract more audience engagement."
   ]
  },
  {
   "cell_type": "markdown",
   "metadata": {},
   "source": [
    "### 2. Decade-wise IMDb Rating Analysis"
   ]
  },
  {
   "cell_type": "code",
   "execution_count": 24,
   "metadata": {},
   "outputs": [
    {
     "name": "stdout",
     "output_type": "stream",
     "text": [
      "  decade  avg_rating  num_movies\n",
      "0  1940s    6.316667           6\n",
      "1  1950s    7.118182          11\n",
      "2  1960s    7.313043          23\n",
      "3  1970s    7.032203          59\n",
      "4  1980s    6.799074         108\n",
      "5  1990s    6.568619         239\n",
      "6  2000s    6.546554         769\n",
      "7  2010s    6.460171        4798\n",
      "8  2020s    6.460711        1265\n"
     ]
    }
   ],
   "source": [
    "def run_query(sql):\n",
    "    conn = sqlite3.connect('/Users/mimi/Documents/imdb-analysis/data/netflix_imdb.db')\n",
    "    result = pd.read_sql_query(sql, conn)\n",
    "    conn.close()\n",
    "    return result\n",
    "\n",
    "sql = \"\"\"\n",
    "SELECT \n",
    "    CASE \n",
    "        WHEN release_year BETWEEN 1920 AND 1929 THEN '1920s'\n",
    "        WHEN release_year BETWEEN 1930 AND 1939 THEN '1930s'\n",
    "        WHEN release_year BETWEEN 1940 AND 1949 THEN '1940s'\n",
    "        WHEN release_year BETWEEN 1950 AND 1959 THEN '1950s'\n",
    "        WHEN release_year BETWEEN 1960 AND 1969 THEN '1960s'\n",
    "        WHEN release_year BETWEEN 1970 AND 1979 THEN '1970s'\n",
    "        WHEN release_year BETWEEN 1980 AND 1989 THEN '1980s'\n",
    "        WHEN release_year BETWEEN 1990 AND 1999 THEN '1990s'\n",
    "        WHEN release_year BETWEEN 2000 AND 2009 THEN '2000s'\n",
    "        WHEN release_year BETWEEN 2010 AND 2019 THEN '2010s'\n",
    "        WHEN release_year BETWEEN 2020 AND 2029 THEN '2020s'\n",
    "        ELSE 'Other' \n",
    "    END AS decade,\n",
    "    AVG(imdb_rating) AS avg_rating,\n",
    "    COUNT(*) AS num_movies\n",
    "FROM \n",
    "    netflix_imdb_data_now\n",
    "WHERE \n",
    "    release_year IS NOT NULL\n",
    "GROUP BY \n",
    "    decade\n",
    "ORDER BY \n",
    "    decade;\n",
    "\n",
    "\n",
    "\n",
    "\"\"\"\n",
    "\n",
    "result = run_query(sql)\n",
    "print(result)"
   ]
  },
  {
   "cell_type": "markdown",
   "metadata": {},
   "source": [
    "The average IMDb rating shows a declining trend over the decades. Highest average ratings are observed in the 1960s (7.31) and 1950s (7.12). The lowest average ratings are seen in the 2010s (6.46) and 2020s (6.46)."
   ]
  },
  {
   "cell_type": "markdown",
   "metadata": {},
   "source": [
    "### 3. Best Directors Based on IMDb Ratings"
   ]
  },
  {
   "cell_type": "code",
   "execution_count": 25,
   "metadata": {},
   "outputs": [
    {
     "name": "stdout",
     "output_type": "stream",
     "text": [
      "                       director  avg_rating  num_movies\n",
      "0           Michel Hazanavicius    8.266667           3\n",
      "1               Joel Schumacher    8.266667           3\n",
      "2             Quentin Tarantino    8.237500           8\n",
      "3          Hrishikesh Mukherjee    8.125000           4\n",
      "4                 Barak Goodman    8.100000           3\n",
      "5                   Oriol Paulo    8.080000           5\n",
      "6                Anurag Kashyap    8.066667           3\n",
      "7                   Stan Lathan    8.066667           3\n",
      "8                  Dean DeBlois    8.066667           3\n",
      "9   Daniel Lindsay, T.J. Martin    8.066667           3\n",
      "10              Rajkumar Hirani    8.033333           3\n",
      "11            Christopher Nolan    8.033333           3\n",
      "12            Stefano Lodovichi    8.000000           3\n",
      "13                Peter Jackson    7.942857           7\n",
      "14                  David Batty    7.925000           4\n"
     ]
    }
   ],
   "source": [
    "def run_query(sql):\n",
    "    conn = sqlite3.connect('/Users/mimi/Documents/imdb-analysis/data/netflix_imdb.db')\n",
    "    result = pd.read_sql_query(sql, conn)\n",
    "    conn.close()\n",
    "    return result\n",
    "\n",
    "sql = \"\"\"\n",
    "\n",
    "SELECT \n",
    "    director,\n",
    "    AVG(imdb_rating) AS avg_rating,\n",
    "    COUNT(*) AS num_movies\n",
    "FROM \n",
    "    netflix_imdb_data_now\n",
    "WHERE \n",
    "    director IS NOT NULL\n",
    "GROUP BY \n",
    "    director\n",
    "HAVING \n",
    "    COUNT(*) >= 3\n",
    "ORDER BY \n",
    "    avg_rating DESC\n",
    "\tLIMIT 15;\n",
    "\n",
    "\"\"\"\n",
    "\n",
    "result = run_query(sql)\n",
    "print(result)"
   ]
  },
  {
   "cell_type": "markdown",
   "metadata": {},
   "source": [
    "This table showcases the top directors based on their average IMDb ratings and the number of movies they’ve directed that are present in the dataset."
   ]
  },
  {
   "cell_type": "markdown",
   "metadata": {},
   "source": [
    "### 4. High-Rated Movies"
   ]
  },
  {
   "cell_type": "code",
   "execution_count": 26,
   "metadata": {},
   "outputs": [
    {
     "name": "stdout",
     "output_type": "stream",
     "text": [
      "   release_year  high_rating_movies  rank\n",
      "0        2018.0                  89     1\n",
      "1        2019.0                  84     2\n",
      "2        2017.0                  76     3\n",
      "3        2020.0                  72     4\n",
      "4        2016.0                  51     5\n",
      "5        2015.0                  42     6\n",
      "6        2021.0                  40     7\n",
      "7        2014.0                  31     8\n",
      "8        2013.0                  25     9\n",
      "9        2011.0                  23    10\n"
     ]
    }
   ],
   "source": [
    "def run_query(sql):\n",
    "    conn = sqlite3.connect('/Users/mimi/Documents/imdb-analysis/data/netflix_imdb.db')\n",
    "    result = pd.read_sql_query(sql, conn)\n",
    "    conn.close()\n",
    "    return result\n",
    "\n",
    "sql = \"\"\"\n",
    "\n",
    "SELECT \n",
    "    release_year,\n",
    "    COUNT(*) FILTER (WHERE imdb_rating >= 8) AS high_rating_movies,\n",
    "    RANK() OVER (ORDER BY COUNT(*) FILTER (WHERE imdb_rating >= 8) DESC) AS rank\n",
    "FROM \n",
    "    netflix_imdb_data_now\n",
    "GROUP BY \n",
    "    release_year\n",
    "ORDER BY \n",
    "    high_rating_movies DESC\n",
    "LIMIT 10;\n",
    "\n",
    "\n",
    "\n",
    "\"\"\"\n",
    "\n",
    "result = run_query(sql)\n",
    "print(result)"
   ]
  },
  {
   "cell_type": "markdown",
   "metadata": {},
   "source": [
    "The data reveals an interesting trend—the years from 2015 to 2021 dominate the top 10 rankings for the most high-rated movies (IMDb rating ≥ 8). 2018 takes the crown with a whopping 89 high-rated films, followed closely by 2019 and 2017."
   ]
  },
  {
   "cell_type": "markdown",
   "metadata": {},
   "source": [
    "In the previous \"Decade-wise IMDb Rating Analysis\", we found that the 1960s (7.31) and 1950s (7.12) had the highest average IMDb ratings.\n",
    "\n",
    "However, when we looked at the Top 10 Years with the Most High-Rated Movies, these decades didn’t even make the list. I think this could be because of a “volume effect”. In the 1950s and 1960s, fewer movies were produced, but they were often high-quality classics that stood the test of time. In the 2010s and 2020s, there were a lot more movies, especially because of streaming platforms. Even though there are many great movies, there are also a lot of average or bad ones, which makes the average rating lower.\n"
   ]
  },
  {
   "cell_type": "markdown",
   "metadata": {},
   "source": [
    "### 5. Low-Rated Movies "
   ]
  },
  {
   "cell_type": "code",
   "execution_count": 27,
   "metadata": {},
   "outputs": [
    {
     "name": "stdout",
     "output_type": "stream",
     "text": [
      "   release_year  low_rating_movies  rank\n",
      "0        2018.0                 45     3\n",
      "1        2020.0                 37     4\n",
      "2        2019.0                 35     2\n",
      "3        2017.0                 35     4\n",
      "4        2016.0                 29     1\n",
      "5        2014.0                 14    10\n",
      "6        2021.0                 12     6\n",
      "7        2013.0                  8     7\n",
      "8        2015.0                  8    20\n",
      "9        2012.0                  7    11\n"
     ]
    }
   ],
   "source": [
    "def run_query(sql):\n",
    "    conn = sqlite3.connect('/Users/mimi/Documents/imdb-analysis/data/netflix_imdb.db')\n",
    "    result = pd.read_sql_query(sql, conn)\n",
    "    conn.close()\n",
    "    return result\n",
    "\n",
    "sql = \"\"\"\n",
    "SELECT\n",
    "    release_year,\n",
    "    COUNT(*) FILTER (WHERE imdb_rating <= 4) AS low_rating_movies,\n",
    "    RANK() OVER (ORDER BY COUNT(*) FILTER (WHERE imdb_rating <= 3) DESC) AS rank\n",
    "FROM\n",
    "    netflix_imdb_data_now\n",
    "GROUP BY\n",
    "    release_year\n",
    "ORDER BY\n",
    "    low_rating_movies DESC\n",
    "LIMIT 10;\n",
    "\n",
    "\n",
    "\n",
    "\"\"\"\n",
    "\n",
    "result = run_query(sql)\n",
    "print(result)"
   ]
  },
  {
   "cell_type": "markdown",
   "metadata": {},
   "source": [
    "From the results, 2016 holds the top spot with the most low-rated movies, followed closely by 2019, 2018, and 2020. 2018 had both a high number of top-rated movies and low-rated ones."
   ]
  },
  {
   "cell_type": "markdown",
   "metadata": {},
   "source": [
    "### 6. The Most Inspired Directors"
   ]
  },
  {
   "cell_type": "code",
   "execution_count": 28,
   "metadata": {},
   "outputs": [
    {
     "name": "stdout",
     "output_type": "stream",
     "text": [
      "                 director  works\n",
      "0            Marcus Raboy     15\n",
      "1  Raúl Campos, Jan Suter     14\n",
      "2         Youssef Chahine     13\n",
      "3              Ron Howard     13\n",
      "4        Steven Spielberg     12\n",
      "5           Mike Flanagan     12\n",
      "6                     McG     12\n",
      "7               Jay Karas     12\n",
      "8     Cathy Garcia-Molina     12\n",
      "9         Martin Scorsese     11\n"
     ]
    }
   ],
   "source": [
    "def run_query(sql):\n",
    "    conn = sqlite3.connect('/Users/mimi/Documents/imdb-analysis/data/netflix_imdb.db')\n",
    "    result = pd.read_sql_query(sql, conn)\n",
    "    conn.close()\n",
    "    return result\n",
    "\n",
    "sql = \"\"\"\n",
    "\n",
    "SELECT \n",
    "    director, \n",
    "    COUNT(*) AS works\n",
    "FROM \n",
    "    netflix_imdb_data_now\n",
    "WHERE \n",
    "    director IS NOT NULL\n",
    "GROUP BY \n",
    "    director\n",
    "ORDER BY \n",
    "    works DESC\n",
    "LIMIT 10;\n",
    "\n",
    "\n",
    "\"\"\"\n",
    "\n",
    "result = run_query(sql)\n",
    "print(result)"
   ]
  },
  {
   "cell_type": "markdown",
   "metadata": {},
   "source": [
    "Marcus Raboy tops the list with 15 works, proving to be the most inspired director in terms of output. Raúl Campos and Jan Suter, a dynamic directing duo, follow closely with 14 works, showcasing their consistent collaboration."
   ]
  }
 ],
 "metadata": {
  "kernelspec": {
   "display_name": "Python 3",
   "language": "python",
   "name": "python3"
  },
  "language_info": {
   "codemirror_mode": {
    "name": "ipython",
    "version": 3
   },
   "file_extension": ".py",
   "mimetype": "text/x-python",
   "name": "python",
   "nbconvert_exporter": "python",
   "pygments_lexer": "ipython3",
   "version": "3.9.6"
  }
 },
 "nbformat": 4,
 "nbformat_minor": 2
}
